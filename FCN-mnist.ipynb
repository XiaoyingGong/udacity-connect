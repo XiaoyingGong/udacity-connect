{
 "cells": [
  {
   "cell_type": "markdown",
   "metadata": {},
   "source": [
    "## Key Insights:\n",
    "- Batch size affects quality of learning.\n",
    "- Without an activation function cost just diverges.\n",
    "- Even with an activation function scaling is needed to get good results."
   ]
  },
  {
   "cell_type": "code",
   "execution_count": 1,
   "metadata": {},
   "outputs": [
    {
     "name": "stderr",
     "output_type": "stream",
     "text": [
      "/home/farhanhubble/anaconda3/envs/dl-tflow-src/lib/python3.6/site-packages/h5py/__init__.py:36: FutureWarning: Conversion of the second argument of issubdtype from `float` to `np.floating` is deprecated. In future, it will be treated as `np.float64 == np.dtype(float).type`.\n",
      "  from ._conv import register_converters as _register_converters\n"
     ]
    }
   ],
   "source": [
    "%matplotlib inline\n",
    "\n",
    "import numpy as np\n",
    "import matplotlib.pyplot as plt\n",
    "import pandas as pd\n",
    "import tensorflow as tf\n",
    "from sklearn.utils import shuffle\n",
    "from tensorflow.core.framework import graph_pb2\n",
    "from sklearn.metrics import jaccard_similarity_score"
   ]
  },
  {
   "cell_type": "code",
   "execution_count": 2,
   "metadata": {},
   "outputs": [],
   "source": [
    "X = np.load('combined.npy')\n",
    "y = np.load('segmented.npy')"
   ]
  },
  {
   "cell_type": "code",
   "execution_count": 3,
   "metadata": {},
   "outputs": [],
   "source": [
    "SEGMENTATION_TYPE = ['ALL_DIGITS', 'BINARY'][0]\n",
    "if SEGMENTATION_TYPE is 'BINARY':\n",
    "    num_classes = 2\n",
    "    # Collapse per-pixel labels into digit vs non-digit.\n",
    "    y = np.max(y,axis=3)\n",
    "    y=np.stack((y==1,y==0),axis=-1)\n",
    "elif SEGMENTATION_TYPE is 'ALL_DIGITS':\n",
    "    num_classes = 10\n"
   ]
  },
  {
   "cell_type": "code",
   "execution_count": 4,
   "metadata": {},
   "outputs": [
    {
     "name": "stdout",
     "output_type": "stream",
     "text": [
      "(2000, 64, 84) (2000, 64, 84, 10)\n"
     ]
    }
   ],
   "source": [
    "print(X.shape, y.shape)"
   ]
  },
  {
   "cell_type": "code",
   "execution_count": 5,
   "metadata": {},
   "outputs": [],
   "source": [
    "#Shuffle\n",
    "X,y = shuffle(X,y)\n",
    "\n",
    "X = X.astype(np.float32)\n",
    "y = y.astype(np.float32)"
   ]
  },
  {
   "cell_type": "code",
   "execution_count": 6,
   "metadata": {},
   "outputs": [],
   "source": [
    "# Normalize\n",
    "X -= 127.0\n",
    "X /= 127.0"
   ]
  },
  {
   "cell_type": "code",
   "execution_count": 7,
   "metadata": {},
   "outputs": [
    {
     "data": {
      "image/png": "[encoded data removed]",
      "text/plain": [
       "<matplotlib.figure.Figure at 0x7f96eebe8518>"
      ]
     },
     "metadata": {},
     "output_type": "display_data"
    }
   ],
   "source": [
    "#Plot random examples.\n",
    "def plot_grid(X_plot, y_plot):\n",
    "\n",
    "    fig = plt.figure(figsize=(12,8))\n",
    "\n",
    "    for index, (x_, y_) in enumerate(zip(X_plot, y_plot)):\n",
    "        ax = plt.subplot2grid((len(X_plot),y_plot[0].shape[-1]+1), (index,0), fig=fig, xticks=[], yticks=[])\n",
    "        ax.imshow(x_, cmap='gray')\n",
    "        #plt.show()\n",
    "        for i in range(y_.shape[-1]):\n",
    "            ax = plt.subplot2grid((len(X_plot),y_plot[0].shape[-1]+1), (index,i+1), fig=fig, xticks=[], yticks=[] )\n",
    "            ax.imshow(y_[:,:,i], cmap='gray')\n",
    "    plt.show()\n",
    "\n",
    "indices = np.random.randint(low=0, high=len(X), size=5)\n",
    "plot_grid(X[indices], y[indices])\n",
    "  "
   ]
  },
  {
   "cell_type": "code",
   "execution_count": 8,
   "metadata": {},
   "outputs": [],
   "source": [
    "# Split it into train and validation\n",
    "n_train = int(0.7 * len(y))\n",
    "\n",
    "y_train, X_train, y_test, X_test = y[: n_train], X[: n_train, :], y[n_train:], X[n_train:, :]"
   ]
  },
  {
   "cell_type": "code",
   "execution_count": 9,
   "metadata": {},
   "outputs": [],
   "source": [
    "def get_next_batch(batch_size, X, y):\n",
    "    for start in range(0,len(y),batch_size):\n",
    "        end = min(len(y), start+batch_size)\n",
    "        yield X[start:end] , y[start:end]"
   ]
  },
  {
   "cell_type": "code",
   "execution_count": 10,
   "metadata": {},
   "outputs": [],
   "source": [
    "def load_graph(path_protobuf):\n",
    "    with open(path_protobuf, \"rb\") as f:\n",
    "        graph_def = graph_pb2.GraphDef()\n",
    "        graph_def.ParseFromString(f.read())\n",
    "        with tf.Graph().as_default() as graph:\n",
    "            # Createa new placeholder\n",
    "            input_big = tf.placeholder(dtype=tf.float32, shape=(None, X.shape[1],X.shape[2],1), name='input_image_big')\n",
    "            # Import the graph and replace the reshape node with new placeholder.\n",
    "            tf.import_graph_def(graph_def, name=\"\", input_map={\"reshaped_image\": input_big})\n",
    "            return graph"
   ]
  },
  {
   "cell_type": "code",
   "execution_count": 29,
   "metadata": {},
   "outputs": [],
   "source": [
    "def nn(nb_classes):\n",
    "    ## Helper functions to reduce clutter.\n",
    "    _conv1x1 = lambda tensor, nb_filters :\\\n",
    "     tf.layers.conv2d(tensor, \n",
    "                    nb_filters, \n",
    "                    1, \n",
    "                    1,\n",
    "                    activation=tf.nn.relu)\n",
    "\n",
    "    _upsample = lambda tensor, kernel_sz, stride, nb_filters :\\\n",
    "     tf.layers.conv2d_transpose(tensor, \n",
    "                                nb_filters, \n",
    "                                kernel_sz, \n",
    "                                stride,\n",
    "                                activation=tf.nn.relu)\n",
    "\n",
    "    # Get all required tensors from our pretrained decoder(CNN).\n",
    "    encoder = load_graph('checkpoints/frozen_graph.pb')\n",
    "    with encoder.as_default():\n",
    "        input_ph = encoder.get_tensor_by_name('input_image_big:0')\n",
    "        maxpool1_out = encoder.get_tensor_by_name('pool1/MaxPool:0')\n",
    "        maxpool2_out = encoder.get_tensor_by_name('poool2/MaxPool:0')\n",
    "\n",
    "        # Create a 32-deep 1x1 convolution layer in place of the 32-wide fully-connected \n",
    "        # layer.\n",
    "        enc_l1 = _conv1x1(maxpool2_out,128)\n",
    "        # Skip connection from first pooling\n",
    "        enc_l2 = _upsample(enc_l1,2,1,128) \n",
    "        enc_l3 = _upsample(enc_l2,2,1,128)\n",
    "        enc_l4 = _upsample(enc_l3,2,2,64)\n",
    "        enc_l5 = _upsample(enc_l4,2,2,32)\n",
    "        # Reduce number of channels to number of outputs.\n",
    "        enc_l6 = _conv1x1(enc_l5,nb_classes)\n",
    "        \n",
    "        labels_ph = tf.placeholder(dtype=tf.int32, shape=(None, y.shape[1], y.shape[2], y.shape[3]), name='segmentation_labels')\n",
    "        lr_ph = tf.placeholder(dtype=tf.float32, name='learning_rate')\n",
    "        \n",
    "        logits = tf.reshape(enc_l6,[-1,num_classes], name='logits')\n",
    "        prediction_op = tf.identity(tf.nn.softmax(enc_l6), name='predictions')\n",
    "        labels_flat = tf.reshape(labels_ph,[-1,num_classes])\n",
    "        \n",
    "        cost_op = tf.reduce_mean(tf.nn.softmax_cross_entropy_with_logits(labels=labels_flat, logits=logits))\n",
    "        \n",
    "        # Apply an optimizer\n",
    "        optimizer_op = tf.train.AdamOptimizer(learning_rate=lr_ph).minimize(cost_op)\n",
    "\n",
    "    # Return the graph along with all operation that may be needed.\n",
    "    # The graph will be passed to tf.Session() because we have added \n",
    "    # new opearations to this graph not the default graph\n",
    "    return encoder, input_ph, labels_ph, lr_ph, optimizer_op, cost_op, prediction_op"
   ]
  },
  {
   "cell_type": "code",
   "execution_count": 30,
   "metadata": {},
   "outputs": [],
   "source": [
    "new_graph, input_ph, labels_ph, lr_ph, optimizer_op, cost_op, prediction_op = nn(nb_classes=num_classes)"
   ]
  },
  {
   "cell_type": "code",
   "execution_count": 31,
   "metadata": {},
   "outputs": [
    {
     "name": "stdout",
     "output_type": "stream",
     "text": [
      "(?, 64, 84, 10)\n"
     ]
    }
   ],
   "source": [
    "print(prediction_op.shape)"
   ]
  },
  {
   "cell_type": "code",
   "execution_count": 32,
   "metadata": {},
   "outputs": [],
   "source": [
    "def eval_cost(cost_op, X, y, batch_sz):\n",
    "    total_cost = 0\n",
    "    nb_batches = 0\n",
    "    for batch_X,batch_y in get_next_batch(batch_size,X,y):\n",
    "        batch_X = np.expand_dims(batch_X,3)\n",
    "        feed_dict={input_ph: batch_X, labels_ph: batch_y}\n",
    "        total_cost += cost_op.eval(feed_dict=feed_dict)\n",
    "        nb_batches += 1\n",
    "    return total_cost / nb_batches\n",
    "\n",
    "def eval_IoU(prediction_op, X, y, batch_sz):\n",
    "    nb_batches = 0\n",
    "    total_iou = 0\n",
    "    for batch_X, batch_y in get_next_batch(batch_sz,X,y):\n",
    "        batch_X = np.expand_dims(batch_X,3)\n",
    "        feed_dict={input_ph: batch_X, labels_ph: batch_y}\n",
    "        predictions = prediction_op.eval(feed_dict=feed_dict)\n",
    "        total_iou += jaccard_similarity_score(batch_y.flatten(),predictions.flatten()>0.5)\n",
    "        nb_batches += 1\n",
    "    return 100*total_iou/nb_batches\n",
    "\n",
    "def predict(prediction_op, X):\n",
    "    X_ = np.expand_dims(X,3)\n",
    "    feed_dict={input_ph: X_}\n",
    "    result = prediction_op.eval(feed_dict=feed_dict)\n",
    "    return result"
   ]
  },
  {
   "cell_type": "code",
   "execution_count": 33,
   "metadata": {
    "scrolled": true
   },
   "outputs": [
    {
     "name": "stderr",
     "output_type": "stream",
     "text": [
      "  6%|▋         | 25/400 [00:31<07:48,  1.25s/it]"
     ]
    },
    {
     "name": "stdout",
     "output_type": "stream",
     "text": [
      "Cost= 0.043880343\n"
     ]
    },
    {
     "name": "stderr",
     "output_type": "stream",
     "text": [
      " 12%|█▎        | 50/400 [01:03<07:22,  1.26s/it]"
     ]
    },
    {
     "name": "stdout",
     "output_type": "stream",
     "text": [
      "Cost= 0.032029036\n"
     ]
    },
    {
     "name": "stderr",
     "output_type": "stream",
     "text": [
      " 19%|█▉        | 75/400 [01:32<06:40,  1.23s/it]"
     ]
    },
    {
     "name": "stdout",
     "output_type": "stream",
     "text": [
      "Cost= 0.023872511\n"
     ]
    },
    {
     "name": "stderr",
     "output_type": "stream",
     "text": [
      " 25%|██▌       | 100/400 [02:02<06:07,  1.23s/it]"
     ]
    },
    {
     "name": "stdout",
     "output_type": "stream",
     "text": [
      "Cost= 0.026059702\n"
     ]
    },
    {
     "name": "stderr",
     "output_type": "stream",
     "text": [
      " 31%|███▏      | 125/400 [02:34<05:39,  1.23s/it]"
     ]
    },
    {
     "name": "stdout",
     "output_type": "stream",
     "text": [
      "Cost= 0.017848916\n"
     ]
    },
    {
     "name": "stderr",
     "output_type": "stream",
     "text": [
      " 38%|███▊      | 150/400 [03:05<05:08,  1.23s/it]"
     ]
    },
    {
     "name": "stdout",
     "output_type": "stream",
     "text": [
      "Cost= 0.01780307\n"
     ]
    },
    {
     "name": "stderr",
     "output_type": "stream",
     "text": [
      " 44%|████▍     | 175/400 [03:37<04:39,  1.24s/it]"
     ]
    },
    {
     "name": "stdout",
     "output_type": "stream",
     "text": [
      "Cost= 0.014917005\n"
     ]
    },
    {
     "name": "stderr",
     "output_type": "stream",
     "text": [
      " 50%|█████     | 200/400 [04:08<04:08,  1.24s/it]"
     ]
    },
    {
     "name": "stdout",
     "output_type": "stream",
     "text": [
      "Cost= 0.01063606\n"
     ]
    },
    {
     "name": "stderr",
     "output_type": "stream",
     "text": [
      " 56%|█████▋    | 225/400 [04:39<03:37,  1.24s/it]"
     ]
    },
    {
     "name": "stdout",
     "output_type": "stream",
     "text": [
      "Cost= 0.008252071\n"
     ]
    },
    {
     "name": "stderr",
     "output_type": "stream",
     "text": [
      " 62%|██████▎   | 250/400 [05:10<03:06,  1.24s/it]"
     ]
    },
    {
     "name": "stdout",
     "output_type": "stream",
     "text": [
      "Cost= 0.011558572\n"
     ]
    },
    {
     "name": "stderr",
     "output_type": "stream",
     "text": [
      " 69%|██████▉   | 275/400 [05:42<02:35,  1.25s/it]"
     ]
    },
    {
     "name": "stdout",
     "output_type": "stream",
     "text": [
      "Cost= 0.0067982636\n"
     ]
    },
    {
     "name": "stderr",
     "output_type": "stream",
     "text": [
      " 75%|███████▌  | 300/400 [06:12<02:04,  1.24s/it]"
     ]
    },
    {
     "name": "stdout",
     "output_type": "stream",
     "text": [
      "Cost= 0.0071529867\n"
     ]
    },
    {
     "name": "stderr",
     "output_type": "stream",
     "text": [
      " 81%|████████▏ | 325/400 [06:44<01:33,  1.24s/it]"
     ]
    },
    {
     "name": "stdout",
     "output_type": "stream",
     "text": [
      "Cost= 0.022502854\n"
     ]
    },
    {
     "name": "stderr",
     "output_type": "stream",
     "text": [
      " 88%|████████▊ | 350/400 [07:15<01:02,  1.25s/it]"
     ]
    },
    {
     "name": "stdout",
     "output_type": "stream",
     "text": [
      "Cost= 0.005967219\n"
     ]
    },
    {
     "name": "stderr",
     "output_type": "stream",
     "text": [
      " 94%|█████████▍| 375/400 [07:45<00:31,  1.24s/it]"
     ]
    },
    {
     "name": "stdout",
     "output_type": "stream",
     "text": [
      "Cost= 0.0060875276\n"
     ]
    },
    {
     "name": "stderr",
     "output_type": "stream",
     "text": [
      "100%|██████████| 400/400 [08:17<00:00,  1.24s/it]"
     ]
    },
    {
     "name": "stdout",
     "output_type": "stream",
     "text": [
      "Cost= 0.0053079943\n",
      "Optimization Finished!\n"
     ]
    },
    {
     "name": "stderr",
     "output_type": "stream",
     "text": [
      "\n"
     ]
    }
   ],
   "source": [
    "from tqdm import tqdm\n",
    "\n",
    "epochs = 400\n",
    "batch_size = 16\n",
    "learning_rate = 0.001\n",
    "batches_per_epoch = int(X_train.shape[0]/batch_size)\n",
    "n_train = int(len(y_train)*0.8)\n",
    "\n",
    "\n",
    "\n",
    "# Launch the graph\n",
    "with tf.Session(graph=new_graph) as sess:\n",
    "    summary_writer = tf.summary.FileWriter('./mnist-fcn',sess.graph)\n",
    "    summary_writer.flush()\n",
    "    \n",
    "    sess.run(tf.global_variables_initializer())\n",
    "    \n",
    "    for epoch in tqdm(range(epochs)):\n",
    "        # Shuffle data for cross validation\n",
    "        indices = np.array(range(len(y_train)))\n",
    "        np.random.shuffle(indices)\n",
    "        \n",
    "        train_indices = indices[: n_train]\n",
    "        val_indices = indices[n_train:]\n",
    "        \n",
    "\n",
    "        \n",
    "        y_train_fold, X_train_fold, y_val_fold, X_val_fold = y_train[train_indices], X_train[train_indices, :], \\\n",
    "        y_train[val_indices], X_train[val_indices, :]\n",
    "        \n",
    "        # Loop over all training batches\n",
    "        for x, y in get_next_batch(batch_size, X_train_fold, y_train_fold):\n",
    "            # Convert x to a 4D Tensor by adding an empty dimension because\n",
    "            # The placeholder and the convolution layers expect a 4-D Tensor\n",
    "            # in [N,W,H,C] format.\n",
    "            x_ = np.expand_dims(x,3)\n",
    "            _, cost = sess.run([optimizer_op, cost_op], \n",
    "                                 feed_dict={input_ph:x_, labels_ph:y, lr_ph:learning_rate})\n",
    "        \n",
    "        if (epoch+1) % 25 == 0:\n",
    "            print('Cost=',cost)\n",
    "#             training_cost = eval_cost(cost_op, X_train_fold, y_train_fold, batch_size)\n",
    "#             training_IoU  = eval_IoU(prediction_op, X_train_fold, y_train_fold, batch_size)\n",
    "#             valid_IoU  = eval_IoU(prediction_op, X_val_fold, y_val_fold, batch_size)\n",
    "#             test_IoU  = eval_IoU(prediction_op, X_test, y_test, batch_size)\n",
    "#             #print(training_cost, training_acc, valid_acc, test_acc)\n",
    "            \n",
    "#             summary = tf.Summary()\n",
    "#             summary.value.add(tag=\"Train Cost\", simple_value=training_cost)\n",
    "#             summary.value.add(tag=\"Train IoU\", simple_value=training_IoU)\n",
    "#             summary.value.add(tag=\"Validation IoU\", simple_value=valid_IoU)\n",
    "#             summary.value.add(tag=\"Test IoU\", simple_value=test_IoU)\n",
    "#             summary_writer.add_summary(summary,epoch+1)\n",
    "#             summary_writer.flush()\n",
    "\n",
    "    \n",
    "    print(\"Optimization Finished!\")\n",
    "    summary_writer.close()\n",
    "    # Save the graph structure only.\n",
    "    # Need to save weights in a checkpoint file separately.\n",
    "    # The graph structure is saved twice, once as a text file \n",
    "    # with extension '.pbtxt' and then as a binary file with \n",
    "    # extension '.pb'. This is done for demonstration only.\n",
    "    tf.train.write_graph(\n",
    "    tf.get_default_graph().as_graph_def(),\n",
    "    './checkpoints/',\n",
    "    'mnist-fcn.pbtxt',\n",
    "    as_text=True)\n",
    "    \n",
    "    tf.train.write_graph(\n",
    "    tf.get_default_graph().as_graph_def(),\n",
    "    './checkpoints/',\n",
    "    'mnist-fcn.pb',\n",
    "    as_text=False)\n",
    "    \n",
    "    saver = tf.train.Saver()\n",
    "    saver.save(sess,'./checkpoints/mnist-fcn.ckpt',epoch+1)\n",
    "    \n",
    "    result_train = predict(prediction_op, X_train[0:10])\n",
    "    result_test = predict(prediction_op, X_test[0:10])"
   ]
  },
  {
   "cell_type": "code",
   "execution_count": 34,
   "metadata": {},
   "outputs": [
    {
     "data": {
      "image/png": "[encoded data removed]",
      "text/plain": [
       "<matplotlib.figure.Figure at 0x7f96915b9e48>"
      ]
     },
     "metadata": {},
     "output_type": "display_data"
    },
    {
     "data": {
      "image/png": "[encoded data removed]",
      "text/plain": [
       "<matplotlib.figure.Figure at 0x7f96915b9ba8>"
      ]
     },
     "metadata": {},
     "output_type": "display_data"
    },
    {
     "data": {
      "image/png": "[encoded data removed]",
      "text/plain": [
       "<matplotlib.figure.Figure at 0x7f96c4045eb8>"
      ]
     },
     "metadata": {},
     "output_type": "display_data"
    },
    {
     "data": {
      "image/png": "[encoded data removed]",
      "text/plain": [
       "<matplotlib.figure.Figure at 0x7f96d24aa8d0>"
      ]
     },
     "metadata": {},
     "output_type": "display_data"
    }
   ],
   "source": [
    "plot_grid(X_train[0:10],result_train)\n",
    "plot_grid(X_train[0:10],y_train[0:10])\n",
    "plot_grid(X_test[0:10], result_test)\n",
    "plot_grid(X_test[0:10], y_test[0:10])"
   ]
  },
  {
   "cell_type": "code",
   "execution_count": null,
   "metadata": {},
   "outputs": [],
   "source": [
    "a = tf.constant(0,dtype=tf.float32,shape=[1,14,19,1])\n",
    "b = tf.pad(tf.layers.conv2d_transpose(a,1,2,1),[[0,0],[1,1],[1,1],[0,0]])\n",
    "c =  tf.pad(tf.layers.conv2d_transpose(b,1,2,2),[[0,0],[2,2],[2,2],[0,0]])\n",
    "print(b.shape,c.shape)"
   ]
  },
  {
   "cell_type": "code",
   "execution_count": null,
   "metadata": {},
   "outputs": [],
   "source": [
    "a = tf.constant(0,dtype=tf.float32,shape=[1,14,19,1])\n",
    "b = tf.layers.conv2d_transpose(a,1,2,1)\n",
    "c = tf.layers.conv2d_transpose(b,1,2,1)\n",
    "d = tf.layers.conv2d_transpose(c,1,2,2)\n",
    "e = tf.layers.conv2d_transpose(d,1,2,2)\n",
    "print(b.shape,c.shape,d.shape, e.shape)"
   ]
  },
  {
   "cell_type": "code",
   "execution_count": null,
   "metadata": {},
   "outputs": [],
   "source": []
  }
 ],
 "metadata": {
  "kernelspec": {
   "display_name": "Python 3",
   "language": "python",
   "name": "python3"
  },
  "language_info": {
   "codemirror_mode": {
    "name": "ipython",
    "version": 3
   },
   "file_extension": ".py",
   "mimetype": "text/x-python",
   "name": "python",
   "nbconvert_exporter": "python",
   "pygments_lexer": "ipython3",
   "version": "3.6.4"
  }
 },
 "nbformat": 4,
 "nbformat_minor": 2
}
